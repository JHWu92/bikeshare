{
 "cells": [
  {
   "cell_type": "code",
   "execution_count": 1,
   "metadata": {
    "collapsed": true
   },
   "outputs": [],
   "source": [
    "import pandas as pd"
   ]
  },
  {
   "cell_type": "code",
   "execution_count": 2,
   "metadata": {
    "collapsed": true
   },
   "outputs": [],
   "source": [
    "df_bike = pd.read_csv('data/seg_for_bikeshare.csv', index_col=0)"
   ]
  },
  {
   "cell_type": "code",
   "execution_count": 65,
   "metadata": {
    "collapsed": true
   },
   "outputs": [],
   "source": [
    "df_y = pd.read_csv('data/y_csl_all-2017-11-07.csv')\n",
    "# df_y = pd.read_csv('data/y_csl_all-2017-10-01.csv')"
   ]
  },
  {
   "cell_type": "code",
   "execution_count": 7,
   "metadata": {},
   "outputs": [],
   "source": [
    "index_seg_with_y = set(df_y.index_seg)"
   ]
  },
  {
   "cell_type": "code",
   "execution_count": 10,
   "metadata": {},
   "outputs": [],
   "source": [
    "df_bike['has_y'] = df_bike.index_seg.isin(index_seg_with_y)"
   ]
  },
  {
   "cell_type": "code",
   "execution_count": 16,
   "metadata": {
    "collapsed": true
   },
   "outputs": [],
   "source": [
    "%matplotlib inline"
   ]
  },
  {
   "cell_type": "code",
   "execution_count": 22,
   "metadata": {},
   "outputs": [],
   "source": [
    "has_y_ratio = df_bike.groupby('key').mean()[['has_y']]"
   ]
  },
  {
   "cell_type": "code",
   "execution_count": 31,
   "metadata": {},
   "outputs": [
    {
     "name": "stdout",
     "output_type": "stream",
     "text": [
      "0.0 (2148, 1)\n",
      "0.1 (1755, 1)\n",
      "0.2 (1173, 1)\n",
      "0.3 (729, 1)\n",
      "0.4 (416, 1)\n",
      "0.5 (216, 1)\n",
      "0.6 (117, 1)\n",
      "0.7 (60, 1)\n",
      "0.8 (30, 1)\n",
      "0.9 (12, 1)\n"
     ]
    }
   ],
   "source": [
    "for x in range(10):\n",
    "    print(x/10.0, has_y_ratio[has_y_ratio.has_y>x/10.0].shape)"
   ]
  },
  {
   "cell_type": "code",
   "execution_count": 61,
   "metadata": {
    "collapsed": true
   },
   "outputs": [],
   "source": [
    "import numpy as np"
   ]
  },
  {
   "cell_type": "code",
   "execution_count": 64,
   "metadata": {},
   "outputs": [
    {
     "name": "stdout",
     "output_type": "stream",
     "text": [
      "2    266\n",
      "3    118\n",
      "1     58\n",
      "Name: csl, dtype: int64\n",
      "3    232\n",
      "2    121\n",
      "4     61\n",
      "1     28\n",
      "Name: csl, dtype: int64\n",
      "3    175\n",
      "4    159\n",
      "2     61\n",
      "5     25\n",
      "1     22\n",
      "Name: csl, dtype: int64\n"
     ]
    }
   ],
   "source": [
    "for n_classes in [3,4,5]:\n",
    "    bins = np.linspace(0.9999999,5,n_classes+1)\n",
    "    bins\n",
    "\n",
    "    print(pd.cut(df_y.csl, bins, labels=[i+1 for i in range(n_classes)]).value_counts())"
   ]
  },
  {
   "cell_type": "code",
   "execution_count": 66,
   "metadata": {},
   "outputs": [
    {
     "name": "stdout",
     "output_type": "stream",
     "text": [
      "2    289\n",
      "3    112\n",
      "1     49\n",
      "Name: csl, dtype: int64\n",
      "3    241\n",
      "2    146\n",
      "4     46\n",
      "1     17\n",
      "Name: csl, dtype: int64\n",
      "3    189\n",
      "4    155\n",
      "2     76\n",
      "5     18\n",
      "1     12\n",
      "Name: csl, dtype: int64\n"
     ]
    }
   ],
   "source": [
    "for n_classes in [3,4,5]:\n",
    "    bins = np.linspace(0.9999999,5,n_classes+1)\n",
    "    bins\n",
    "\n",
    "    print(pd.cut(df_y.csl, bins, labels=[i+1 for i in range(n_classes)]).value_counts())"
   ]
  },
  {
   "cell_type": "code",
   "execution_count": null,
   "metadata": {
    "collapsed": true
   },
   "outputs": [],
   "source": []
  }
 ],
 "metadata": {
  "kernelspec": {
   "display_name": "Python 3",
   "language": "python",
   "name": "python3"
  },
  "language_info": {
   "codemirror_mode": {
    "name": "ipython",
    "version": 3
   },
   "file_extension": ".py",
   "mimetype": "text/x-python",
   "name": "python",
   "nbconvert_exporter": "python",
   "pygments_lexer": "ipython3",
   "version": "3.6.1"
  }
 },
 "nbformat": 4,
 "nbformat_minor": 2
}
